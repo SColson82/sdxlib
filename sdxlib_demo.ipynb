{
 "cells": [
  {
   "cell_type": "markdown",
   "id": "0108edb2",
   "metadata": {},
   "source": [
    "# SDXLIB Demonstration\n",
    "\n",
    "**The intention of this notebook is to demonstrate the most basic methods available in the SDXLIB library on the most basic instance accepted by the API. Future notebooks will demonstrate the optional attributes and additional error handling.**"
   ]
  },
  {
   "cell_type": "markdown",
   "id": "33c63ac4",
   "metadata": {},
   "source": [
    "Once the API is in place, requests_mock and config should no longer be necessary."
   ]
  },
  {
   "cell_type": "code",
   "execution_count": 1,
   "id": "95b3b5a4",
   "metadata": {},
   "outputs": [],
   "source": [
    "from pprint import pprint\n",
    "import requests\n",
    "import requests_mock\n",
    "\n",
    "from config import *\n",
    "from sdxlib.sdx_client import SDXClient\n",
    "from sdxlib.sdx_exception import SDXException"
   ]
  },
  {
   "cell_type": "markdown",
   "id": "47c92e0c",
   "metadata": {},
   "source": [
    "# Creating L2VPN"
   ]
  },
  {
   "cell_type": "markdown",
   "id": "6923edb2",
   "metadata": {},
   "source": [
    "### Demonstration of L2VPN Client Creation and Error Handling\n",
    "\n",
    "**This portion of the demo will create an 'SDXClient' instance using the minimum required attributes for the API request:**\n",
    "* URL - \"http://example.com\"\n",
    "* Name - Any string that is less than 50 characters.\n",
    "* Endpoints - A list of dictionaries. Each dictionary must contain the following keys:\n",
    "    * port_id - The Uniform Resource Name (URN) of a network device's port. Must follow the pattern: \"urn:sdx:port:<oxp_url>:<node_name>:<port_name>\"\n",
    "    * vlan: Describes how the SDX and OXPs should treat L2VPN frames. Accepted values are:\n",
    "        * \"any\"\n",
    "        * \"all\"\n",
    "        * \"untagged\"\n",
    "        * integer string\n",
    "        * VLAN range in the format \"VLAN ID1:VLAN ID2\""
   ]
  },
  {
   "cell_type": "code",
   "execution_count": 2,
   "id": "7d50a9ef",
   "metadata": {},
   "outputs": [],
   "source": [
    "# Define the required attributes\n",
    "url = \"http://aw-sdx-controller.renci.org:8081\"\n",
    "client_name = \"Test L2VPN\"\n",
    "client_endpoints = [\n",
    "    {\"port_id\": \"urn:sdx:port:sax.br:Rtr01:50\", \"vlan\": \"any\"},\n",
    "    {\"port_id\": \"urn:sdx:port:ampath.net:Ampath3:50\", \"vlan\": \"any\"}\n",
    "]"
   ]
  },
  {
   "cell_type": "code",
   "execution_count": 3,
   "id": "f9252bc4",
   "metadata": {},
   "outputs": [],
   "source": [
    "# Create the L2VPN object\n",
    "client = SDXClient(url, client_name, client_endpoints)"
   ]
  },
  {
   "cell_type": "code",
   "execution_count": 4,
   "id": "198f63d3",
   "metadata": {},
   "outputs": [
    {
     "data": {
      "text/plain": [
       "SDXClient(name=Test L2VPN, endpoints=[{'port_id': 'urn:sdx:port:sax.br:Rtr01:50', 'vlan': 'any'}, {'port_id': 'urn:sdx:port:ampath.net:Ampath3:50', 'vlan': 'any'}], description=None, notifications=None, scheduling=None, qos_metrics=None, base url=http://aw-sdx-controller.renci.org:8081"
      ]
     },
     "execution_count": 4,
     "metadata": {},
     "output_type": "execute_result"
    }
   ],
   "source": [
    "client"
   ]
  },
  {
   "cell_type": "markdown",
   "id": "ffecc91e",
   "metadata": {},
   "source": [
    "### Error Handling\n",
    "\n",
    "**The below mocks the call to the API which should return an error code of 409, indicating that the specified service already exists.**"
   ]
  },
  {
   "cell_type": "code",
   "execution_count": 5,
   "id": "dece2cba",
   "metadata": {},
   "outputs": [
    {
     "name": "stderr",
     "output_type": "stream",
     "text": [
      "Failed to create L2VPN. Status code: 409: L2VPN Service already exists\n"
     ]
    },
    {
     "name": "stdout",
     "output_type": "stream",
     "text": [
      "Request URL: http://aw-sdx-controller.renci.org:8081/l2vpn/1.0\n",
      "L2VPN creation failed: L2VPN Service already exists\n"
     ]
    }
   ],
   "source": [
    "# Create a mocker for requests for the unsuccessful case\n",
    "with requests_mock.Mocker() as mock_requests:\n",
    "    # Mock unsuccessful L2VPN creation\n",
    "    mock_requests.register_uri(\n",
    "        \"POST\", f\"{url}/l2vpn/1.0\",\n",
    "        json=mock_response_unsuccessful_409,\n",
    "        status_code=409  # Set status code for unsuccessful creation (Options are: 400, 401, 402, 409, 410, 411, 422)\n",
    "    )\n",
    "    \n",
    "    # Debug print to verify the mock setup\n",
    "    print(f\"Request URL: {url}/l2vpn/1.0\")\n",
    "\n",
    "    try:\n",
    "        response = client.create_l2vpn()  \n",
    "        print(\"Request successful.\")\n",
    "    except SDXException as e:\n",
    "        print(f\"L2VPN creation failed: {e}\")  "
   ]
  },
  {
   "cell_type": "markdown",
   "id": "50969633",
   "metadata": {},
   "source": [
    "**This example will demonstrate a 'Connection error'. This should cause an SDXException.**"
   ]
  },
  {
   "cell_type": "code",
   "execution_count": 6,
   "id": "5f424495",
   "metadata": {},
   "outputs": [
    {
     "name": "stderr",
     "output_type": "stream",
     "text": [
      "An error occurred while creating L2VPN: Connection error\n"
     ]
    },
    {
     "name": "stdout",
     "output_type": "stream",
     "text": [
      "Request URL: http://aw-sdx-controller.renci.org:8081/l2vpn/1.0\n",
      "L2VPN creation failed: An error occurred while creating L2VPN: Connection error\n"
     ]
    }
   ],
   "source": [
    "# Create a mocker for requests to simulate a RequestException\n",
    "with requests_mock.Mocker() as mock_requests:\n",
    "    # Mock a request exception scenario (e.g., connection error)\n",
    "    mock_requests.register_uri(\n",
    "        \"POST\", f\"{url}/l2vpn/1.0\",\n",
    "        exc=requests.exceptions.RequestException(\"Connection error\")\n",
    "    )\n",
    "    \n",
    "    # Debug print to verify the mock setup\n",
    "    print(f\"Request URL: {url}/l2vpn/1.0\")\n",
    "\n",
    "    try:\n",
    "        response = client.create_l2vpn()  \n",
    "    except SDXException as e:\n",
    "        print(f\"L2VPN creation failed: {e}\")  \n",
    "    except requests.exceptions.RequestException as e:\n",
    "        print(f\"Request exception occurred: {e}\")  "
   ]
  },
  {
   "cell_type": "markdown",
   "id": "3aec6384",
   "metadata": {},
   "source": [
    "### Successful Call to the API\n",
    "\n",
    "**This call should return a response from the API with the service_id attribute which has a value in the form of UUID.**"
   ]
  },
  {
   "cell_type": "code",
   "execution_count": 7,
   "id": "0ccf3fe3",
   "metadata": {},
   "outputs": [
    {
     "name": "stdout",
     "output_type": "stream",
     "text": [
      "Request URL: http://aw-sdx-controller.renci.org:8081/l2vpn/1.0\n",
      "L2VPN creation successful!\n",
      "{'service_id': '123e4567-e89b-12d3-a456-426614174000'}\n"
     ]
    }
   ],
   "source": [
    "# Create a mocker for requests\n",
    "with requests_mock.Mocker() as mock_requests:\n",
    "    # Mock successful L2VPN creation\n",
    "    mock_requests.register_uri(\n",
    "        \"POST\", f\"{url}/l2vpn/1.0\", \n",
    "        json=mock_response_successful,\n",
    "        status_code=201  # Set status code for successful creation\n",
    "    )\n",
    "    \n",
    "    # Debug statement to confirm URL and method\n",
    "    print(f\"Request URL: {url}/l2vpn/1.0\")\n",
    "\n",
    "    try:\n",
    "        response = client.create_l2vpn()  \n",
    "        print(\"L2VPN creation successful!\")\n",
    "        pprint(response)\n",
    "    except SDXException as e:\n",
    "        print(f\"L2VPN creation failed: {e}\")  "
   ]
  },
  {
   "cell_type": "markdown",
   "id": "a6359337",
   "metadata": {},
   "source": [
    "# Update L2VPNs"
   ]
  },
  {
   "cell_type": "markdown",
   "id": "040d6510",
   "metadata": {},
   "source": [
    "### Demonstration of L2VPN Client Update and Error Handling\n",
    "\n",
    "**Again, create a client instance with the minimum required attributes for a successful API call.**\n",
    "\n",
    "The update method requires the service_id and any attributes that are to be updated. The attributes that may be updated are: name, endpoints, description, notifications, scheduling, qos_metrics, and the state attribute that is returned from the API. The state attribute may be updated to \"enabled\" or \"disabled\"."
   ]
  },
  {
   "cell_type": "code",
   "execution_count": 8,
   "id": "d7cf8c1f",
   "metadata": {},
   "outputs": [],
   "source": [
    "# Define your SDXClient instance with mock URL and initial configuration\n",
    "url = \"http://aw-sdx-controller.renci.org:8081\""
   ]
  },
  {
   "cell_type": "code",
   "execution_count": 10,
   "id": "0f3ed676",
   "metadata": {},
   "outputs": [],
   "source": [
    "# Create the SDXClient instance\n",
    "client = SDXClient(url)"
   ]
  },
  {
   "cell_type": "markdown",
   "id": "43ef2809",
   "metadata": {},
   "source": [
    "### Error Handling\n",
    "\n",
    "**Here, we are going to attempt an update to the name, description, and state attributes. This example should demonstrate the returned exception for a 404 response, the supplied service_id is not found.**"
   ]
  },
  {
   "cell_type": "code",
   "execution_count": 11,
   "id": "cc3ac877",
   "metadata": {},
   "outputs": [
    {
     "name": "stderr",
     "output_type": "stream",
     "text": [
      "Failed to update L2VPN. Status code: 404: L2VPN Service ID not found\n"
     ]
    },
    {
     "name": "stdout",
     "output_type": "stream",
     "text": [
      "Request URL: http://aw-sdx-controller.renci.org:8081/l2vpn/1.0/123e4567-e89b-12d3-a456-426614174000\n",
      "SDXException: L2VPN Service ID not found\n"
     ]
    }
   ],
   "source": [
    "# Example update_l2vpn scenario with requests_mock\n",
    "with requests_mock.Mocker() as m:\n",
    "\n",
    "    # Mock endpoint URL\n",
    "    mock_url = f\"{url}/l2vpn/{client.VERSION}/123e4567-e89b-12d3-a456-426614174000\"\n",
    "    \n",
    "    # Example for handling other status codes if needed\n",
    "    m.patch(mock_url, status_code=404)  # Mocking 404 response\n",
    "    \n",
    "    print(f\"Request URL: {mock_url}\")\n",
    "    \n",
    "    try:\n",
    "        response = client.update_l2vpn(service_id=\"123e4567-e89b-12d3-a456-426614174000\", name=\"New L2VPN Name\", description=\"Updated description\", state=\"enabled\")\n",
    "        print(\"Update Successful:\")\n",
    "        pprint(response)\n",
    "    except SDXException as e:\n",
    "        print(\"SDXException:\", e)\n",
    "    except Exception as e:\n",
    "        print(\"Exception:\", e)"
   ]
  },
  {
   "cell_type": "markdown",
   "id": "f28c8b80",
   "metadata": {},
   "source": [
    "**And here I expect to see a successful response, with a description indicating that the L2VPN has been modified along with the service_id for the modified object.**"
   ]
  },
  {
   "cell_type": "code",
   "execution_count": 12,
   "id": "ca5124ce",
   "metadata": {},
   "outputs": [
    {
     "name": "stdout",
     "output_type": "stream",
     "text": [
      "Request URL: http://aw-sdx-controller.renci.org:8081/l2vpn/1.0/123e4567-e89b-12d3-a456-426614174000\n",
      "Update Successful:\n",
      "{'description': 'L2VPN Service Modified',\n",
      " 'service_id': '123e4567-e89b-12d3-a456-426614174000'}\n"
     ]
    }
   ],
   "source": [
    "# Example update_l2vpn scenario with requests_mock\n",
    "with requests_mock.Mocker() as m:\n",
    "\n",
    "    # Mock endpoint URL\n",
    "    mock_url = f\"{url}/l2vpn/{client.VERSION}/123e4567-e89b-12d3-a456-426614174000\"\n",
    "    \n",
    "    # Register mock response for patch request\n",
    "    m.patch(mock_url, json=mock_response, status_code=200)\n",
    "    \n",
    "    print(f\"Request URL: {mock_url}\")\n",
    "    \n",
    "    # Call the update_l2vpn method\n",
    "    try:\n",
    "        response = client.update_l2vpn(service_id=\"123e4567-e89b-12d3-a456-426614174000\", name=\"New L2VPN Name\", description=\"Updated description\", state=\"enabled\")\n",
    "        print(\"Update Successful:\")\n",
    "        pprint(response)\n",
    "    except SDXException as e:\n",
    "        print(\"SDXException:\", e)\n",
    "    except Exception as e:\n",
    "        print(\"Exception:\", e)\n"
   ]
  },
  {
   "cell_type": "markdown",
   "id": "06454804",
   "metadata": {},
   "source": [
    "# Retrieve All L2VPNs\n",
    "\n",
    "### Demonstration to retrieve all L2VPN Clients and Error Handling\n",
    "\n",
    "**Now we will query the API for a list of all available L2VPNs. Therefore, we will create a client that is empty except for the URL.**\n",
    "\n",
    "There are two retrieval methods, one to retreive a list of all L2VPNs and one to retrieve the information for a single L2VPN (we will discuss this one next). "
   ]
  },
  {
   "cell_type": "code",
   "execution_count": 13,
   "id": "e55280a9",
   "metadata": {},
   "outputs": [],
   "source": [
    "client = SDXClient(url)"
   ]
  },
  {
   "cell_type": "markdown",
   "id": "dbf47783",
   "metadata": {},
   "source": [
    "### Error Handling\n",
    "\n",
    "**This error should simulate a network error.** "
   ]
  },
  {
   "cell_type": "code",
   "execution_count": 14,
   "id": "5d693b63",
   "metadata": {},
   "outputs": [
    {
     "name": "stderr",
     "output_type": "stream",
     "text": [
      "Failed to retrieve L2VPN(s): Simulated network error\n"
     ]
    },
    {
     "name": "stdout",
     "output_type": "stream",
     "text": [
      "Request URL: http://aw-sdx-controller.renci.org:8081/l2vpn/1.0/\n",
      "\n"
     ]
    }
   ],
   "source": [
    "with requests_mock.Mocker() as mock_requests:\n",
    "    # Simulate a RequestException (e.g., network error)\n",
    "    mock_requests.register_uri(\n",
    "        \"GET\", f\"{url}/l2vpn/{client.VERSION}/\",\n",
    "        exc=requests.RequestException(\"Simulated network error\")\n",
    "    )\n",
    "    \n",
    "    print(f\"Request URL: {url}/l2vpn/{client.VERSION}/\")\n",
    "\n",
    "    # Call the get_all_l2vpns method\n",
    "    try:\n",
    "        response = client.get_all_l2vpns() \n",
    "        print(\"Get All L2VPNs (RequestException):\")\n",
    "        pprint(response)\n",
    "    except SDXException as e:\n",
    "        print(e)"
   ]
  },
  {
   "cell_type": "markdown",
   "id": "6594bbff",
   "metadata": {},
   "source": [
    "**Here I expect to see an empty dictionary because there are no active layer 2 VPNs.**"
   ]
  },
  {
   "cell_type": "code",
   "execution_count": 15,
   "id": "cc74871f",
   "metadata": {},
   "outputs": [
    {
     "name": "stdout",
     "output_type": "stream",
     "text": [
      "Request URL: http://aw-sdx-controller.renci.org:8081/l2vpn/1.0/\n",
      "Get All L2VPNs: {}\n"
     ]
    }
   ],
   "source": [
    "# Mock the get_all_l2vpns method\n",
    "with requests_mock.Mocker() as mock_requests:\n",
    "    # Mock response for no L2VPNs existing\n",
    "    mock_requests.register_uri(\n",
    "        \"GET\", f\"{url}/l2vpn/{client.VERSION}/\",\n",
    "        json=mock_response_no_l2vpns,\n",
    "        status_code=200\n",
    "    )\n",
    "    \n",
    "    print(f\"Request URL: {url}/l2vpn/{client.VERSION}/\")\n",
    "    \n",
    "    # Call the get_all_l2vpns method\n",
    "    try:\n",
    "        response = client.get_all_l2vpns()\n",
    "        print(\"Get All L2VPNs:\", response)\n",
    "    except SDXException as e:\n",
    "        print(\"SDXException:\", e)"
   ]
  },
  {
   "cell_type": "markdown",
   "id": "9707f052",
   "metadata": {},
   "source": [
    "**Here I expect to see only the active l2vpn.**"
   ]
  },
  {
   "cell_type": "code",
   "execution_count": 17,
   "id": "c1575e24",
   "metadata": {},
   "outputs": [
    {
     "name": "stdout",
     "output_type": "stream",
     "text": [
      "Request URL: http://aw-sdx-controller.renci.org:8081/l2vpn/1.0/\n",
      "Get All L2VPNs (One or more L2VPNs exist):\n",
      "{'c73da8e1-5d03-4620-a1db-7cdf23e8978c': {'archived_date': '0',\n",
      "                                          'counters_location': 'https://my.aw-sdx.net/l2vpn/7cdf23e8978c',\n",
      "                                          'creation_date': '20240522T00:00:00Z',\n",
      "                                          'current_path': ['urn:sdx:link:tenet.ac.za:LinkToAmpath'],\n",
      "                                          'description': 'Example 1',\n",
      "                                          'endpoints': [{'port_id': 'urn:sdx:port:tenet.ac.za:Tenet03:50',\n",
      "                                                         'vlan': '150'},\n",
      "                                                        {'port_id': 'urn:sdx:port:ampath.net:Ampath3:50',\n",
      "                                                         'vlan': '300'}],\n",
      "                                          'last_modified': '0',\n",
      "                                          'name': 'VLAN between AMPATH/300 and '\n",
      "                                                  'TENET/150',\n",
      "                                          'notifications': [{'email': 'user@domain.com'},\n",
      "                                                            {'email': 'user2@domain2.com'}],\n",
      "                                          'ownership': 'user1',\n",
      "                                          'oxp_service_ids': {'Tenet.ac.za': ['5d034620'],\n",
      "                                                              'ampath.net': ['c73da8e1']},\n",
      "                                          'qos_metrics': {'max_delay': {'strict': True,\n",
      "                                                                        'value': 150},\n",
      "                                                          'min_bw': {'strict': False,\n",
      "                                                                     'value': 5}},\n",
      "                                          'service_id': 'c73da8e1-5d03-4620-a1db-7cdf23e8978c',\n",
      "                                          'state': 'enabled',\n",
      "                                          'status': 'up'},\n",
      " 'fa2c99ca-30a9-4b51-8491-683c52e326a6': {'archived_date': '0',\n",
      "                                          'counters_location': 'https://my.aw-sdx.net/l2vpn/52e326a6',\n",
      "                                          'creation_date': '20240422T00:00:00Z',\n",
      "                                          'current_path': ['urn:sdx:link:tenet.ac.za:LinkToSAX',\n",
      "                                                           'urn:sdx:link:tenet.ac.za:LinkToAmpath',\n",
      "                                                           'urn:sdx:link:ampath.net:LinkToSAX'],\n",
      "                                          'endpoints': [{'port_id': 'urn:sdx:port:tenet.ac.za:Tenet03:50',\n",
      "                                                         'vlan': '3500'},\n",
      "                                                        {'port_id': 'urn:sdx:port:sax.br:router_01:50',\n",
      "                                                         'vlan': '3500'},\n",
      "                                                        {'port_id': 'urn:sdx:port:ampath.net:Ampath3:50',\n",
      "                                                         'vlan': '3500'}],\n",
      "                                          'last_modified': '0',\n",
      "                                          'name': 'Example 2',\n",
      "                                          'ownership': 'user2',\n",
      "                                          'oxp_service_ids': {'ampath.net': ['d82da7f9'],\n",
      "                                                              'sax.br': ['bb834633'],\n",
      "                                                              'tenet.ac.za': ['ab034673']},\n",
      "                                          'service_id': 'fa2c99ca-30a9-4b51-8491-683c52e326a6',\n",
      "                                          'state': 'disabled',\n",
      "                                          'status': 'up'}}\n"
     ]
    }
   ],
   "source": [
    "with requests_mock.Mocker() as mock_requests:\n",
    "    # Mock response for one or more archived L2VPNs existing\n",
    "    mock_requests.register_uri(\n",
    "        \"GET\", f\"{url}/l2vpn/{client.VERSION}/\",\n",
    "        json=mock_response_active_l2vpns_exist,\n",
    "        status_code=200\n",
    "    )\n",
    "    \n",
    "    print(f\"Request URL: {url}/l2vpn/{client.VERSION}/\")\n",
    "    \n",
    "    # Call the get_all_l2vpns method\n",
    "    try:\n",
    "        response = client.get_all_l2vpns()\n",
    "        print(\"Get All L2VPNs (One or more L2VPNs exist):\")\n",
    "        pprint(response)\n",
    "    except SDXException as e:\n",
    "        print(\"SDXException:\", e)"
   ]
  },
  {
   "cell_type": "markdown",
   "id": "a47c43d9",
   "metadata": {},
   "source": [
    "**Here I expect to see only the archived l2vpns.**"
   ]
  },
  {
   "cell_type": "code",
   "execution_count": 18,
   "id": "ca04287c",
   "metadata": {},
   "outputs": [
    {
     "name": "stdout",
     "output_type": "stream",
     "text": [
      "Request URL: http://aw-sdx-controller.renci.org:8081/l2vpn/1.0/archived\n",
      "Get All L2VPNs (One or more L2VPNs exist):\n",
      "{'c73da8e1-5d03-4620-a1db-7cdf23e8978c': {'archived_date': '2024-06-16T19:20:30Z',\n",
      "                                          'counters_location': 'https://my.aw-sdx.net/l2vpn/7cdf23e8978c',\n",
      "                                          'creation_date': '2024-05-22T00:00:00Z',\n",
      "                                          'current_path': ['urn:sdx:link:tenet.ac.za:LinkToAmpath'],\n",
      "                                          'description': 'Example 1',\n",
      "                                          'endpoints': [{'port_id': 'urn:sdx:port:tenet.ac.za:Tenet03:50',\n",
      "                                                         'vlan': '150'},\n",
      "                                                        {'port_id': 'urn:sdx:port:ampath.net:Ampath3:50',\n",
      "                                                         'vlan': '300'}],\n",
      "                                          'last_modified': '0',\n",
      "                                          'name': 'VLAN between AMPATH/300 and '\n",
      "                                                  'TENET/150',\n",
      "                                          'notifications': [{'email': 'user@domain.com'},\n",
      "                                                            {'email': 'user2@domain2.com'}],\n",
      "                                          'ownership': 'user1',\n",
      "                                          'oxp_service_ids': {'Tenet.ac.za': ['5d034620'],\n",
      "                                                              'ampath.net': ['c73da8e1']},\n",
      "                                          'qos_metrics': {'max_delay': {'strict': True,\n",
      "                                                                        'value': 150},\n",
      "                                                          'min_bw': {'strict': False,\n",
      "                                                                     'value': 5}},\n",
      "                                          'service_id': 'c73da8e1-5d03-4620-a1db-7cdf23e8978c',\n",
      "                                          'state': 'enabled',\n",
      "                                          'status': 'up'},\n",
      " 'fa2c99ca-30a9-4b51-8491-683c52e326a6': {'archived_date': '2024-06-16T19:20:30Z',\n",
      "                                          'counters_location': 'https://my.aw-sdx.net/l2vpn/52e326a6',\n",
      "                                          'creation_date': '2024-05-22T00:00:00Z',\n",
      "                                          'current_path': ['urn:sdx:link:tenet.ac.za:LinkToSAX',\n",
      "                                                           'urn:sdx:link:tenet.ac.za:LinkToAmpath',\n",
      "                                                           'urn:sdx:link:ampath.net:LinkToSAX'],\n",
      "                                          'endpoints': [{'port_id': 'urn:sdx:port:tenet.ac.za:Tenet03:50',\n",
      "                                                         'vlan': '3500'},\n",
      "                                                        {'port_id': 'urn:sdx:port:sax.br:router_01:50',\n",
      "                                                         'vlan': '3500'},\n",
      "                                                        {'port_id': 'urn:sdx:port:ampath.net:Ampath3:50',\n",
      "                                                         'vlan': '3500'}],\n",
      "                                          'last_modified': '0',\n",
      "                                          'name': 'Example 2',\n",
      "                                          'ownership': 'user2',\n",
      "                                          'oxp_service_ids': {'ampath.net': ['d82da7f9'],\n",
      "                                                              'sax.br': ['bb834633'],\n",
      "                                                              'tenet.ac.za': ['ab034673']},\n",
      "                                          'service_id': 'fa2c99ca-30a9-4b51-8491-683c52e326a6',\n",
      "                                          'state': 'disabled',\n",
      "                                          'status': 'up'}}\n"
     ]
    }
   ],
   "source": [
    "with requests_mock.Mocker() as mock_requests:\n",
    "    # Mock response for one or more archived L2VPNs existing\n",
    "    mock_requests.register_uri(\n",
    "        \"GET\", f\"{url}/l2vpn/{client.VERSION}/archived\",\n",
    "        json=mock_response_archived_l2vpns_exist,\n",
    "        status_code=200\n",
    "    )\n",
    "    \n",
    "    print(f\"Request URL: {url}/l2vpn/{client.VERSION}/archived\")\n",
    "    \n",
    "    # Call the get_all_l2vpns method\n",
    "    try:\n",
    "        response = client.get_all_l2vpns(archived=True)\n",
    "        print(\"Get All L2VPNs (One or more L2VPNs exist):\")\n",
    "        pprint(response)\n",
    "    except SDXException as e:\n",
    "        print(\"SDXException:\", e)"
   ]
  },
  {
   "cell_type": "markdown",
   "id": "cb4de796",
   "metadata": {},
   "source": [
    "# Retrieve a Specific L2VPN\n",
    "\n",
    "### Demonstration to retrieve a specific L2VPN Client\n",
    "\n",
    "**Now we will query the API for a specific L2VPN. We will create a client that is empty except for the URL.**"
   ]
  },
  {
   "cell_type": "code",
   "execution_count": 19,
   "id": "91e0f4bd",
   "metadata": {},
   "outputs": [],
   "source": [
    "client = SDXClient(url)"
   ]
  },
  {
   "cell_type": "markdown",
   "id": "7f48e807",
   "metadata": {},
   "source": [
    "**I will query for the l2vpn using the service_id attribute. With this request, I should see the complete response object from the API for this l2vpn.**"
   ]
  },
  {
   "cell_type": "code",
   "execution_count": 20,
   "id": "83b8e09b",
   "metadata": {},
   "outputs": [
    {
     "name": "stdout",
     "output_type": "stream",
     "text": [
      "Request URL: http://aw-sdx-controller.renci.org:8081/l2vpn/1.0/c73da8e1-5d03-4620-a1db-7cdf23e8978c\n",
      "Get L2VPN (Successful):\n",
      "{'c73da8e1-5d03-4620-a1db-7cdf23e8978c': {'archived_date': '0',\n",
      "                                          'counters_location': 'https://my.aw-sdx.net/l2vpn/7cdf23e8978c',\n",
      "                                          'creation_date': '20240522T00:00:00Z',\n",
      "                                          'current_path': ['urn:sdx:link:tenet.ac.za:LinkToAmpath'],\n",
      "                                          'description': 'Example 1',\n",
      "                                          'endpoints': [{'port_id': 'urn:sdx:port:tenet.ac.za:Tenet03:50',\n",
      "                                                         'vlan': '150'},\n",
      "                                                        {'port_id': 'urn:sdx:port:ampath.net:Ampath3:50',\n",
      "                                                         'vlan': '300'}],\n",
      "                                          'last_modified': '0',\n",
      "                                          'name': 'VLAN between AMPATH/300 and '\n",
      "                                                  'TENET/150',\n",
      "                                          'notifications': [{'email': 'user@domain.com'},\n",
      "                                                            {'email': 'user2@domain2.com'}],\n",
      "                                          'ownership': 'user1',\n",
      "                                          'oxp_service_ids': {'Tenet.ac.za': ['5d034620'],\n",
      "                                                              'ampath.net': ['c73da8e1']},\n",
      "                                          'qos_metrics': {'max_delay': {'strict': True,\n",
      "                                                                        'value': 150},\n",
      "                                                          'min_bw': {'strict': False,\n",
      "                                                                     'value': 5}},\n",
      "                                          'service_id': 'c73da8e1-5d03-4620-a1db-7cdf23e8978c',\n",
      "                                          'state': 'enabled',\n",
      "                                          'status': 'up'}}\n"
     ]
    }
   ],
   "source": [
    "service_id = \"c73da8e1-5d03-4620-a1db-7cdf23e8978c\"\n",
    "\n",
    "with requests_mock.Mocker() as mock_requests:\n",
    "    # Simulate a RequestException (e.g., network error)\n",
    "    mock_requests.register_uri(\n",
    "        \"GET\", f\"{url}/l2vpn/{client.VERSION}/{service_id}\",\n",
    "        json=mock_response_l2vpn_exists,\n",
    "        status_code=200\n",
    "    )\n",
    "    \n",
    "    print(f\"Request URL: {url}/l2vpn/{client.VERSION}/{service_id}\")\n",
    "\n",
    "    # Call the get_l2vpn method\n",
    "    try:\n",
    "        response = client.get_l2vpn(service_id)\n",
    "        print(\"Get L2VPN (Successful):\")\n",
    "        pprint(response)\n",
    "    except SDXException as e:\n",
    "        print(\"SDXException:\", e)"
   ]
  },
  {
   "cell_type": "markdown",
   "id": "0cbf0759",
   "metadata": {},
   "source": [
    "# Delete an L2VPN\n",
    "\n",
    "### Demonstration to delete an L2VPN Client and Error Handling\n",
    "\n",
    "**We will delete an l2vpn client using the service_id attribute.**\n",
    "\n",
    "We will begin by creating a client instance that is empty except for the URL. "
   ]
  },
  {
   "cell_type": "code",
   "execution_count": 21,
   "id": "f03bc9fe",
   "metadata": {},
   "outputs": [],
   "source": [
    "client = SDXClient(url)"
   ]
  },
  {
   "cell_type": "markdown",
   "id": "731dbf3e",
   "metadata": {},
   "source": [
    "**This will simulate a successful deletion. The return on success is None.**"
   ]
  },
  {
   "cell_type": "code",
   "execution_count": 22,
   "id": "2217185e",
   "metadata": {},
   "outputs": [
    {
     "name": "stdout",
     "output_type": "stream",
     "text": [
      "Request URL: http://aw-sdx-controller.renci.org:8081/l2vpn/1.0/c73da8e1-5d03-4620-a1db-7cdf23e8978c\n",
      "Delete L2VPN (Successful):\n",
      "None\n"
     ]
    }
   ],
   "source": [
    "service_id = \"c73da8e1-5d03-4620-a1db-7cdf23e8978c\"\n",
    "\n",
    "with requests_mock.Mocker() as mock_requests:\n",
    "    # Mock response for successful deletion\n",
    "    mock_requests.delete(\n",
    "        f\"{url}/l2vpn/{client.VERSION}/{service_id}\",\n",
    "        status_code=201\n",
    "    )\n",
    "    \n",
    "    print(f\"Request URL: {url}/l2vpn/{client.VERSION}/{service_id}\")\n",
    "\n",
    "    try:\n",
    "        response = client.delete_l2vpn(service_id)\n",
    "        print(\"Delete L2VPN (Successful):\")\n",
    "        pprint(response)\n",
    "    except SDXException as e:\n",
    "        print(\"SDXException:\", e)"
   ]
  },
  {
   "cell_type": "markdown",
   "id": "fd764530",
   "metadata": {},
   "source": [
    "### Error Handling\n",
    "\n",
    "**This will demonstrate the return if the service_id provided for deletion does not exist.**"
   ]
  },
  {
   "cell_type": "code",
   "execution_count": 23,
   "id": "f72525fc",
   "metadata": {},
   "outputs": [
    {
     "name": "stderr",
     "output_type": "stream",
     "text": [
      "Failed to delete L2VPN. Status code: 404: L2VPN Service ID provided does not exist\n"
     ]
    },
    {
     "name": "stdout",
     "output_type": "stream",
     "text": [
      "Request URL: http://aw-sdx-controller.renci.org:8081/l2vpn/1.0/c73da8e1-5d03-4620-a1db-7cdf23e8978c\n",
      "SDXException: L2VPN Service ID provided does not exist\n"
     ]
    }
   ],
   "source": [
    "with requests_mock.Mocker() as mock_requests:\n",
    "    # Mock response for 404: Service ID does not exist\n",
    "    mock_requests.delete(\n",
    "        f\"{url}/l2vpn/{client.VERSION}/{service_id}\",\n",
    "        status_code=404,\n",
    "        json={\"description\": \"L2VPN Service ID provided does not exist\"}\n",
    "    )\n",
    "    \n",
    "    print(f\"Request URL: {url}/l2vpn/{client.VERSION}/{service_id}\")\n",
    "\n",
    "    try:\n",
    "        response = client.delete_l2vpn(service_id)\n",
    "        print(\"Delete L2VPN (Service ID not found):\")\n",
    "        pprint(response)\n",
    "    except SDXException as e:\n",
    "        print(\"SDXException:\", e)"
   ]
  },
  {
   "cell_type": "markdown",
   "id": "a16c1a57",
   "metadata": {},
   "source": [
    "**And here I expect to see a response that I don't have authorization to delete this l2vpn.**"
   ]
  },
  {
   "cell_type": "code",
   "execution_count": 24,
   "id": "3fda756f",
   "metadata": {},
   "outputs": [
    {
     "name": "stderr",
     "output_type": "stream",
     "text": [
      "Failed to delete L2VPN. Status code: 401: Not Authorized\n"
     ]
    },
    {
     "name": "stdout",
     "output_type": "stream",
     "text": [
      "Request URL: http://aw-sdx-controller.renci.org:8081/l2vpn/1.0/c73da8e1-5d03-4620-a1db-7cdf23e8978c\n",
      "SDXException: Not Authorized\n"
     ]
    }
   ],
   "source": [
    "with requests_mock.Mocker() as mock_requests:\n",
    "    # Mock response for 401: not authorized\n",
    "    mock_requests.delete(\n",
    "        f\"{url}/l2vpn/{client.VERSION}/{service_id}\",\n",
    "        status_code=401,\n",
    "        json={\"description\": \"Not Authorized\"}\n",
    "    )\n",
    "    \n",
    "    print(f\"Request URL: {url}/l2vpn/{client.VERSION}/{service_id}\")\n",
    "\n",
    "    try:\n",
    "        response = client.delete_l2vpn(service_id)\n",
    "        print(\"Delete L2VPN (Not Authorized):\")\n",
    "        pprint(response)\n",
    "    except SDXException as e:\n",
    "        print(\"SDXException:\", e)"
   ]
  },
  {
   "cell_type": "code",
   "execution_count": null,
   "id": "bb2a0b61",
   "metadata": {},
   "outputs": [],
   "source": []
  }
 ],
 "metadata": {
  "kernelspec": {
   "display_name": "sdx311env",
   "language": "python",
   "name": "sdx311env"
  },
  "language_info": {
   "codemirror_mode": {
    "name": "ipython",
    "version": 3
   },
   "file_extension": ".py",
   "mimetype": "text/x-python",
   "name": "python",
   "nbconvert_exporter": "python",
   "pygments_lexer": "ipython3",
   "version": "3.11.9"
  }
 },
 "nbformat": 4,
 "nbformat_minor": 5
}
